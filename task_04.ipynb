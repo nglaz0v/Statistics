{
 "cells": [
  {
   "cell_type": "code",
   "execution_count": 1,
   "id": "908b3db8",
   "metadata": {},
   "outputs": [],
   "source": [
    "import math\n",
    "from functools import partial"
   ]
  },
  {
   "cell_type": "markdown",
   "id": "53e49183",
   "metadata": {},
   "source": [
    "__1.__ О непрерывной равномерно распределённой случайной величине `B` известно, что её дисперсия равна 0.2. Можно ли найти правую границу величины `B` и её среднее значение зная, что левая граница равна 0.5? Если да, найдите её."
   ]
  },
  {
   "cell_type": "code",
   "execution_count": 2,
   "id": "939a8620",
   "metadata": {},
   "outputs": [
    {
     "name": "stdout",
     "output_type": "stream",
     "text": [
      "b=2.049193338482967\n",
      "M=1.2745966692414834\n"
     ]
    }
   ],
   "source": [
    "a = 0.5 # левая граница\n",
    "D = 0.2 # дисперсия\n",
    "# для равномерно распределённой случайной величины: var = ((b-a)**2)/12, отсюда\n",
    "b = (12*D)**0.5 + a # правая граница\n",
    "M = (a + b) / 2 # среднее значение\n",
    "print(f\"{b=}\")\n",
    "print(f\"{M=}\")"
   ]
  },
  {
   "cell_type": "markdown",
   "id": "2603130f",
   "metadata": {},
   "source": [
    "__2.__ На сколько сигм (средних квадратических отклонений) отклоняется рост человека, равный 190 см, от математического ожидания роста в популяции, в которой `M(X) = 178` и `D(X) = 25`?"
   ]
  },
  {
   "cell_type": "code",
   "execution_count": 3,
   "id": "04ee2384",
   "metadata": {},
   "outputs": [
    {
     "data": {
      "text/plain": [
       "2.4"
      ]
     },
     "execution_count": 3,
     "metadata": {},
     "output_type": "execute_result"
    }
   ],
   "source": [
    "M = 178\n",
    "D = 25\n",
    "x = 190\n",
    "(x - M) / D**0.5"
   ]
  },
  {
   "cell_type": "markdown",
   "id": "61f80eef",
   "metadata": {},
   "source": [
    "__3.__ Рост взрослого населения города `X` имеет нормальное распределение, причём, средний рост равен 174 см, а среднее квадратическое отклонение равно 8 см. Без использования сторонних библиотек (`numpy`, `scipy`, `pandas` и пр.) посчитайте, какова вероятность того, что случайным образом выбранный взрослый человек имеет рост:\n",
    "1. больше 182 см?\n",
    "2. больше 190 см?\n",
    "3. от 166 см до 190 см?\n",
    "4. от 166 см до 182 см?\n",
    "5. от 158 см до 190 см?\n",
    "6. не выше 150 см или не ниже 190 см?\n",
    "7. не выше 150 см или не ниже 198 см?\n",
    "8. ниже 166 см?"
   ]
  },
  {
   "cell_type": "code",
   "execution_count": 4,
   "id": "6015933a",
   "metadata": {},
   "outputs": [
    {
     "name": "stdout",
     "output_type": "stream",
     "text": [
      "1: 0.15865525393145719\n",
      "2: 0.022750131948179098\n",
      "3: 0.8185946141203637\n",
      "4: 0.6826894921370856\n",
      "5: 0.9544997361036418\n",
      "6: 0.0241000299798092\n",
      "7: 0.002699796063260207\n",
      "8: 0.15865525393145713\n"
     ]
    }
   ],
   "source": [
    "mu = 174 # математическое ожидание\n",
    "sigma = 8 # среднее квадратическое отклонение\n",
    "\n",
    "# функция распределения для нормального распределения\n",
    "cdf = lambda mu, sigma, x: (1 + math.erf((x - mu) / (sigma * math.sqrt(2)))) / 2\n",
    "F = partial(cdf, mu, sigma)\n",
    "\n",
    "p1 = float(1  - F(182))\n",
    "p2 = float(1  - F(190))\n",
    "p3 = float(F(190) - F(166))\n",
    "p4 = float(F(182) - F(166))\n",
    "p5 = float(F(190) - F(158))\n",
    "p6 = float(F(150) + (1 - F(190)))\n",
    "p7 = float(F(150) + (1 - F(198)))\n",
    "p8 = float(F(166))\n",
    "print(f\"1: {p1}\")\n",
    "print(f\"2: {p2}\")\n",
    "print(f\"3: {p3}\")\n",
    "print(f\"4: {p4}\")\n",
    "print(f\"5: {p5}\")\n",
    "print(f\"6: {p6}\")\n",
    "print(f\"7: {p7}\")\n",
    "print(f\"8: {p8}\")"
   ]
  },
  {
   "cell_type": "markdown",
   "id": "31b37cba",
   "metadata": {},
   "source": [
    "Ссылка на git: https://github.com/nglaz0v/Statistics/pull/4"
   ]
  },
  {
   "cell_type": "code",
   "execution_count": null,
   "id": "d394c65d",
   "metadata": {},
   "outputs": [],
   "source": []
  }
 ],
 "metadata": {
  "kernelspec": {
   "display_name": "Python 3",
   "language": "python",
   "name": "python3"
  },
  "language_info": {
   "codemirror_mode": {
    "name": "ipython",
    "version": 3
   },
   "file_extension": ".py",
   "mimetype": "text/x-python",
   "name": "python",
   "nbconvert_exporter": "python",
   "pygments_lexer": "ipython3",
   "version": "3.8.8"
  }
 },
 "nbformat": 4,
 "nbformat_minor": 5
}
