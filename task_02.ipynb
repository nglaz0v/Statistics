{
 "cells": [
  {
   "cell_type": "code",
   "execution_count": 1,
   "id": "2b431ec1",
   "metadata": {},
   "outputs": [],
   "source": [
    "import sympy\n",
    "import sympy.stats"
   ]
  },
  {
   "cell_type": "markdown",
   "id": "2b34784c",
   "metadata": {},
   "source": [
    "__1.__ Контрольная работа состоит из пяти вопросов. На каждый вопрос приведено четыре варианта ответа, один из которых правильный. Составьте закон распределения числа правильных ответов при простом угадывании. Найдите M(X), D(X)."
   ]
  },
  {
   "cell_type": "code",
   "execution_count": 2,
   "id": "9d11ec56",
   "metadata": {},
   "outputs": [
    {
     "name": "stdout",
     "output_type": "stream",
     "text": [
      "[243/1024, 405/1024, 135/512, 45/512, 15/1024, 1/1024]\n",
      "M(X) = 5/4\n",
      "D(X) = 15/16\n",
      "\n",
      "{0: 243/1024, 1: 405/1024, 2: 135/512, 3: 45/512, 4: 15/1024, 5: 1/1024}\n",
      "5/4\n",
      "15/16\n"
     ]
    }
   ],
   "source": [
    "p = sympy.Rational(1, 4) # вероятность правильного ответа\n",
    "n = 5 # количество вопросов\n",
    "\n",
    "#  вычисления напрямую\n",
    "Pr_binom = lambda p, n, k: sympy.binomial(n, k) * (p**k) * ((1-p)**(n-k)) # функция вероятности биномиального распределения\n",
    "P = [Pr_binom(p, n, k) for k in range(n+1)] # закон распределения числа правильных ответов при простом угадывании\n",
    "print(P)\n",
    "# print(sum(P))\n",
    "M_binom = sum([P[i]*i for i in range(n+1)])\n",
    "print(f\"M(X) = {M_binom}\")\n",
    "D_binom = sum([P[i]*(i-M_binom)**2 for i in range(n+1)])\n",
    "print(f\"D(X) = {D_binom}\")\n",
    "print(\"\")\n",
    "\n",
    "# вычисления с помощью библиотеки sympy\n",
    "X = sympy.stats.Binomial('X', n, p)\n",
    "print(sympy.stats.density(X).dict)\n",
    "print(sympy.stats.E(X))\n",
    "print(sympy.stats.variance(X))"
   ]
  },
  {
   "cell_type": "markdown",
   "id": "39ff6e51",
   "metadata": {},
   "source": [
    "__2.__ Вероятность попадания в цель при одном выстреле равна 0.01. Какова вероятность того, что число попаданий при 200 выстрелах будет не менее 5 и не более 10?"
   ]
  },
  {
   "cell_type": "code",
   "execution_count": 3,
   "id": "c719f2f5",
   "metadata": {},
   "outputs": [
    {
     "name": "stdout",
     "output_type": "stream",
     "text": [
      "0.0526447091193427\n",
      "0.0526447091193427\n",
      "0.0526447091193425\n"
     ]
    }
   ],
   "source": [
    "p = 0.01 # вероятность попадания в цель при одном выстреле\n",
    "n = 200 # количество выстрелов\n",
    "a = 5\n",
    "b = 10\n",
    "# поскольку вероятность очень мала, а число опытов достаточно велико, то для решения воспользуемся распределением Пуассона\n",
    "\n",
    "#  вычисления напрямую\n",
    "P = lambda m, lamda: (lamda**m)/sympy.factorial(m)*sympy.exp(-lamda) # распределение Пуассона\n",
    "p1 = sum([P(i, n*p) for i in range(a, b+1)])\n",
    "print(p1)\n",
    "\n",
    "# вычисления с помощью библиотеки sympy\n",
    "X = sympy.stats.Poisson('X', n*p)\n",
    "Xd = sympy.stats.density(X)\n",
    "p2 = sum([Xd(i) for i in range(a, b+1)])\n",
    "print(p2)\n",
    "p3 = sympy.stats.P(X <= 10) - sympy.stats.P(X < 5)\n",
    "print(p3)"
   ]
  },
  {
   "cell_type": "markdown",
   "id": "c7cfd950",
   "metadata": {},
   "source": [
    "__3.__ В условиях предыдущей задачи сколько выстрелов нужно сделать чтобы быть уверенным с вероятностью 0.9, что хотя бы 10 раз будет совершено попадание?\n",
    "\n",
    "*Подсказка.* Как посчитать P(X >= k) для величины X, имеющей распределение Пуассона?"
   ]
  },
  {
   "cell_type": "code",
   "execution_count": 4,
   "id": "6a20ed4f",
   "metadata": {},
   "outputs": [
    {
     "name": "stdout",
     "output_type": "stream",
     "text": [
      "n = 1421 (p = 0.900176072298411)\n"
     ]
    }
   ],
   "source": [
    "# P(X>=k) = 1 - (P(0) + P(1) + ... + P(k-1))\n",
    "p = 0.01 # вероятность попадания в цель при одном выстреле\n",
    "p0 = 0.9 # требуемая вероятность\n",
    "N = 10 # количество требуемых попаданий\n",
    "P = lambda m, lamda: (lamda**m)/sympy.factorial(m)*sympy.exp(-lamda) # распределение Пуассона\n",
    "for n in range(200, 2000):\n",
    "    p10 = 1 - sum([P(i, n*p) for i in range(0, N)])\n",
    "    if (p10 > p0):\n",
    "        print(f\"n = {n} (p = {p10})\")\n",
    "        break"
   ]
  },
  {
   "cell_type": "markdown",
   "id": "06fb83e3",
   "metadata": {},
   "source": [
    "Ссылка на git: https://github.com/nglaz0v/Statistics/pull/2"
   ]
  },
  {
   "cell_type": "code",
   "execution_count": null,
   "id": "5216a304",
   "metadata": {},
   "outputs": [],
   "source": []
  }
 ],
 "metadata": {
  "kernelspec": {
   "display_name": "Python 3",
   "language": "python",
   "name": "python3"
  },
  "language_info": {
   "codemirror_mode": {
    "name": "ipython",
    "version": 3
   },
   "file_extension": ".py",
   "mimetype": "text/x-python",
   "name": "python",
   "nbconvert_exporter": "python",
   "pygments_lexer": "ipython3",
   "version": "3.8.8"
  }
 },
 "nbformat": 4,
 "nbformat_minor": 5
}
