{
 "cells": [
  {
   "cell_type": "code",
   "execution_count": 1,
   "id": "c52c55d3",
   "metadata": {},
   "outputs": [],
   "source": [
    "import numpy as np\n",
    "import matplotlib.pyplot as plt\n",
    "from scipy import stats\n",
    "import calendar as cal"
   ]
  },
  {
   "cell_type": "markdown",
   "id": "0e26f000",
   "metadata": {},
   "source": [
    "# Анализ метеонаблюдений от Королевского нидерландского метеорологического института (KNMI) за последние 100 лет (1920 — 2020 гг.)"
   ]
  },
  {
   "cell_type": "markdown",
   "id": "0ae8830d",
   "metadata": {},
   "source": [
    "В данном проекте используется [набор данных](https://www.kaggle.com/davidzaccai/knmi-19012020-historical-weather-data) наблюдений за погодой от Королевского нидерландского метеорологического института ([Koninklijk Nederlands Meteorologisch Instituut — KNMI](https://www.knmi.nl/)) с более чем столетними измерениями, начиная с 1901 года! Наблюдения производились метеостанцией в Де-Билт (De Bilt), где находится штаб-квартира KNMI, и охватывают данные о температуре, ветре, относительной влажности, облачности, осадках, испарении, продолжительности солнечного сияния и атмосферном давлении."
   ]
  },
  {
   "cell_type": "code",
   "execution_count": 2,
   "id": "22c19199",
   "metadata": {},
   "outputs": [
    {
     "name": "stdout",
     "output_type": "stream",
     "text": [
      "('STN', 'YYYYMMDD', 'DDVEC', 'FHVEC', 'FG', 'FHX', 'FHXH', 'FHN', 'FHNH', 'FXX', 'FXXH', 'TG', 'TN', 'TNH', 'TX', 'TXH', 'T10N', 'T10NH', 'SQ', 'SP', 'Q', 'DR', 'RH', 'RHX', 'RHXH', 'PG', 'PX', 'PXH', 'PN', 'PNH', 'VVN', 'VVNH', 'VVX', 'VVXH', 'NG', 'UG', 'UX', 'UXH', 'UN', 'UNH', 'EV24')\n"
     ]
    }
   ],
   "source": [
    "# прочитать заголовок\n",
    "header = tuple(np.loadtxt(\"KNMI_20200710.csv\", dtype=str, delimiter = ',', max_rows=1))\n",
    "print(header)"
   ]
  },
  {
   "cell_type": "markdown",
   "id": "625ee431",
   "metadata": {},
   "source": [
    "| Столбец | Описание | Примечание |\n",
    "|:---:|:---|:---:|\n",
    "| STN | Номер станции | 260 = De Bilt, NL |\n",
    "| YYYYMMDD | Дата | YYYY=год, MM=месяц, DD=день |\n",
    "| DDVEC | Направление ветра (в градусах) | 360=север, 90=восток, 180=юг, 270=запад, 0=штиль |\n",
    "| FHVEC | Скорость ветра: среднее значение вектора | [км/ч] |\n",
    "| FG | Скорость ветра: среднее за 24 часа | [км/ч] |\n",
    "| FHX | Скорость ветра: наивысшее среднечасовое значение | [км/ч] |\n",
    "| FHXH | Скорость ветра: метка времени (час измерения) FHX | [0-23] |\n",
    "| FHN | Скорость ветра: наименьшее среднечасовое значение | [км/ч] |\n",
    "| FHNH | Скорость ветра: метка времени (час измерения) FHN | [0-23] |\n",
    "| FXX | Скорость ветра: максимальный порыв ветра | [км/ч] |\n",
    "| FXXH | Скорость ветра: метка времени (час измерения) FXX | [0-23] |\n",
    "| TG | Температура: среднее за 24 часа | [℃] |\n",
    "| TN | Температура: минимум | [℃] |\n",
    "| TNH | Температура: метка времени (час измерения) TN | [0-23] |\n",
    "| TX | Температура: максимум | [℃] |\n",
    "| TXH | Температура: метка времени (час измерения) TX | [0-23] |\n",
    "| T10N | Температура: минимальная температура на высоте 10 см над уровнем земли | [℃] |\n",
    "| T10NH | Температура: метка времени (час измерения) T10N | [0-23] |\n",
    "| SQ | Продолжительность солнечного света, рассчитанная с использованием глобального излучения | [ч] |\n",
    "| SP | Процент продолжительности солнечного света по отношению к максимально возможному дневному солнечному свету | [0-100] |\n",
    "| Q | Глобальное излучение | [Дж/см2] |\n",
    "| DR | Осадки: продолжительность | [ч] |\n",
    "| RH | Осадки: суммарное за 24 часа | [мм] |\n",
    "| RHX | Осадки: максимум за час | [мм] |\n",
    "| RHXH | Осадки: метка времени (час измерения) RHX | [0-23] |\n",
    "| PG | Атмосферное давление (пониженное до уровня моря): среднее за 24 ч | [даПа] |\n",
    "| PX | Атмосферное давление (пониженное до уровня моря): максимум | [даПа] |\n",
    "| PXH | Атмосферное давление (пониженное до уровня моря): метка времени (час измерения) PX | [0-23] |\n",
    "| PN | Атмосферное давление (пониженное до уровня моря): минимум | [даПа] |\n",
    "| PNH | Атмосферное давление (пониженное до уровня моря): метка времени (час измерения) PN | [0-23] |\n",
    "| VVN | Видимость: минимум | 0: <100 m, 1:100-200 m, 2:200-300 m, 49:4900-5000 m, 50:5-6 km, 56:6-7 km, 57:7-8 km, 79:29-30 km, 80:30-35 km, 81:35-40 km, 89: >70 km |\n",
    "| VVNH | Видимость: метка времени (час измерения) VVN | [0-23] |\n",
    "| VVX | Видимость: максимум | 0: <100 m, 1:100-200 m, 2:200-300 m, 49:4900-5000 m, 50:5-6 km, 56:6-7 km, 57:7-8 km, 79:29-30 km, 80:30-35 km, 81:35-40 km, 89: >70 km |\n",
    "| VVXH | Видимость: метка времени (час измерения) VVX | [0-23] |\n",
    "| NG | Облачность: среднее за 24 часа | [0-8] (0 = небо ясное, 8 = небо закрыто) |\n",
    "| UG | Относительная влажность: среднее за 24 часа | [%] |\n",
    "| UX | Относительная влажность: максимум | [%] |\n",
    "| UXH | Относительная влажность: метка времени (час измерения) UX | [0-23] |\n",
    "| UN | Относительная влажность: минимум | [%] |\n",
    "| UNH | Относительная влажность: метка времени (час измерения) UN | [0-23] |\n",
    "| EV24 | Испарение Маккинка | [мм] |"
   ]
  },
  {
   "cell_type": "code",
   "execution_count": 3,
   "id": "ef30c86d",
   "metadata": {},
   "outputs": [],
   "source": [
    "str2float = lambda s: float(s.strip() or 0)  # заменить отсутствующие данные нулём\n",
    "str2int = lambda s: int(s.strip() or 0)  # заменить отсутствующие данные нулём\n",
    "\n",
    "casts = {i: str2float for i in range(len(header))}\n",
    "formats = ['f4' for i in range(len(header))]\n",
    "\n",
    "for cln in header:\n",
    "    if (cln == 'STN'):\n",
    "        i = header.index(cln)\n",
    "        casts[i] = str2int\n",
    "        formats[i] = 'i4'\n",
    "    elif (cln == 'YYYYMMDD'):\n",
    "        i = header.index(cln)\n",
    "        casts[i] = str2int\n",
    "        formats[i] = 'i4'\n",
    "    elif (cln.endswith('H')):\n",
    "        i = header.index(cln)\n",
    "        casts[i] = str2int\n",
    "        formats[i] = 'i1'\n",
    "\n",
    "# загрузить данные\n",
    "data = np.loadtxt(\"KNMI_20200710.csv\", delimiter = ',', skiprows=1, converters=casts,\n",
    "                  dtype={'names': header, 'formats': formats})"
   ]
  },
  {
   "cell_type": "markdown",
   "id": "61eafb37",
   "metadata": {},
   "source": [
    "Рассмотрим среднесуточное давление на уровне моря (в 0,1 гПа), рассчитанное на основе 24-часовых значений. Это включает в себя печать описательной статистики и визуализацию распределения вероятностей. В природе мы часто имеем дело с нормальным распределением, поэтому нам пригодится проверка гипотезы о нормальном законе распределения генеральной совокупности. "
   ]
  },
  {
   "cell_type": "code",
   "execution_count": 4,
   "id": "7fc53233",
   "metadata": {},
   "outputs": [],
   "source": [
    "# получить средние значения атмосферного давления и перевести их в гПа умножением на 0.1\n",
    "meanp = np.array([0.1 * rec[header.index(\"PG\")] for rec in data])\n",
    "\n",
    "# отфильтровать нулевые значения\n",
    "meanp = meanp[meanp > 0]"
   ]
  },
  {
   "cell_type": "code",
   "execution_count": 5,
   "id": "bcdcf0c0",
   "metadata": {},
   "outputs": [
    {
     "name": "stdout",
     "output_type": "stream",
     "text": [
      "Максимум:\t\t 1048.3\n",
      "Минимум:\t\t 962.1\n",
      "Выборочное среднее:\t 1015.1654685731446\n",
      "Медиана:\t\t 1015.8000000000001\n",
      "Mода:\t\t\t ModeResult(mode=array([1017.7]), count=array([217]))\n",
      "Стандартное отклонение:\t 9.845134821605363\n"
     ]
    }
   ],
   "source": [
    "# описательная статистика для атмосферного давления\n",
    "mean = meanp.mean()\n",
    "std = meanp.std()\n",
    "\n",
    "print(\"Максимум:\\t\\t\", meanp.max())\n",
    "print(\"Минимум:\\t\\t\", meanp.min())\n",
    "print(\"Выборочное среднее:\\t\", mean)\n",
    "print(\"Медиана:\\t\\t\", np.median(meanp))\n",
    "print(\"Mода:\\t\\t\\t\", stats.mode(meanp, axis=None))\n",
    "print(\"Стандартное отклонение:\\t\", std)"
   ]
  },
  {
   "cell_type": "code",
   "execution_count": 6,
   "id": "c925ca9f",
   "metadata": {},
   "outputs": [
    {
     "data": {
      "text/plain": [
       "Text(0, 0.5, 'Частота')"
      ]
     },
     "execution_count": 6,
     "metadata": {},
     "output_type": "execute_result"
    },
    {
     "data": {
      "image/png": "[encoded data removed]",
      "text/plain": [
       "<Figure size 432x288 with 1 Axes>"
      ]
     },
     "metadata": {
      "needs_background": "light"
     },
     "output_type": "display_data"
    }
   ],
   "source": [
    "# гистограмма выборки и плотность вероятности нормального распределения\n",
    "plt.title(\"Гистограмма среднего атмосферного давления\")\n",
    "_, bins, _ = plt.hist(meanp, int(np.sqrt(len(meanp))), density=True)  # normed=True\n",
    "bbb = np.array([1/(std * np.sqrt(2 * np.pi)) * np.exp(- (b - mean)**2/(2 * std**2)) for b in bins])\n",
    "plt.plot(bins, bbb, 'r-', label=\"плотность вероятности нормального распределения\")\n",
    "plt.grid()\n",
    "plt.legend(loc='best')\n",
    "plt.xlabel(\"Среднее атмосферное давление [гПа]\")\n",
    "plt.ylabel(\"Частота\")"
   ]
  },
  {
   "cell_type": "code",
   "execution_count": 7,
   "id": "64c6f87f",
   "metadata": {},
   "outputs": [
    {
     "data": {
      "image/png": "[encoded data removed]",
      "text/plain": [
       "<Figure size 432x288 with 1 Axes>"
      ]
     },
     "metadata": {
      "needs_background": "light"
     },
     "output_type": "display_data"
    }
   ],
   "source": [
    "# \"ящик с усами\"\n",
    "plt.boxplot(meanp)\n",
    "plt.title(\"Диаграмма размаха среднего атмосферного давления\")\n",
    "plt.ylabel(\"Среднее атмосферное давление [гПа]\")\n",
    "plt.grid()"
   ]
  },
  {
   "cell_type": "markdown",
   "id": "a88eb3e7",
   "metadata": {},
   "source": [
    "Дневной диапазон давления — это разница дневных максимумов и минимумов. В реальных данных иногда отсутствуют некоторые значения. В данном случае это значения для высокого и/или низкого давления в данный день. Можно восполнить эти пробелы с помощью умного алгоритма (интерполировать). Однако можно сделать проще и просто их проигнорировать. После вычисления диапазонов мы проведём аналогичный анализ, как в ячейках выше, но мы будем использовать функции, которые могут работать со значениями NaN. Также мы рассмотрим связь между месяцами и диапазонами."
   ]
  },
  {
   "cell_type": "code",
   "execution_count": 8,
   "id": "a444dab6",
   "metadata": {},
   "outputs": [],
   "source": [
    "# получить значения атмосферного давления и перевести их в гПа умножением на 0.1\n",
    "highs = np.array([0.1 * rec[header.index(\"PX\")] for rec in data]).astype(float)\n",
    "lows = np.array([0.1 * rec[header.index(\"PN\")] for rec in data]).astype(float)\n",
    "\n",
    "# отфильтровать нулевые значения (заменить на NaN)\n",
    "highs[highs == 0] = np.nan\n",
    "lows[lows == 0] = np.nan"
   ]
  },
  {
   "cell_type": "code",
   "execution_count": 9,
   "id": "7a152aae",
   "metadata": {},
   "outputs": [
    {
     "name": "stdout",
     "output_type": "stream",
     "text": [
      "Минимум суточного диапазона  : 0.40000000000009095\n",
      "Максимум суточного диапазона : 41.69999999999993\n",
      "Среднее суточного диапазона  : 6.124495264495265\n",
      "Стандартное отклонение: 4.413000139268925\n"
     ]
    }
   ],
   "source": [
    "# вычислить диапазон и статистику\n",
    "ranges = highs - lows\n",
    "print(\"Минимум суточного диапазона  :\", np.nanmin(ranges))\n",
    "print(\"Максимум суточного диапазона :\", np.nanmax(ranges))\n",
    "print(\"Среднее суточного диапазона  :\", np.nanmean(ranges))\n",
    "print(\"Стандартное отклонение:\", np.nanstd(ranges))"
   ]
  },
  {
   "cell_type": "code",
   "execution_count": 10,
   "id": "f637dd32",
   "metadata": {},
   "outputs": [],
   "source": [
    "# получить статистику по месяцам\n",
    "dates = np.array([rec[header.index(\"YYYYMMDD\")] for rec in data])\n",
    "months = (dates % 10000) // 100\n",
    "months = months[~np.isnan(ranges)]  # игнорировать NaN-значения\n",
    "\n",
    "monthly = []\n",
    "month_range = np.arange(1, 13)\n",
    "\n",
    "for month in month_range:\n",
    "    indices = np.where(month == months)\n",
    "    monthly.append(np.nanmean(ranges[indices]))"
   ]
  },
  {
   "cell_type": "code",
   "execution_count": 11,
   "id": "d5cba696",
   "metadata": {},
   "outputs": [
    {
     "data": {
      "image/png": "[encoded data removed]",
      "text/plain": [
       "<Figure size 432x288 with 1 Axes>"
      ]
     },
     "metadata": {
      "needs_background": "light"
     },
     "output_type": "display_data"
    }
   ],
   "source": [
    "# гистограмма среднемесячных колебаний суточных диапазонов давления\n",
    "plt.bar(month_range, monthly)\n",
    "plt.title(\"Среднемесячное колебание суточных диапазонов давления\")\n",
    "plt.xticks(month_range, cal.month_abbr[1:13])\n",
    "plt.ylabel(\"Среднемесячное колебание [гПа]\")\n",
    "plt.grid()"
   ]
  },
  {
   "cell_type": "code",
   "execution_count": null,
   "id": "489652c5",
   "metadata": {},
   "outputs": [],
   "source": []
  }
 ],
 "metadata": {
  "kernelspec": {
   "display_name": "Python 3",
   "language": "python",
   "name": "python3"
  },
  "language_info": {
   "codemirror_mode": {
    "name": "ipython",
    "version": 3
   },
   "file_extension": ".py",
   "mimetype": "text/x-python",
   "name": "python",
   "nbconvert_exporter": "python",
   "pygments_lexer": "ipython3",
   "version": "3.8.8"
  }
 },
 "nbformat": 4,
 "nbformat_minor": 5
}
