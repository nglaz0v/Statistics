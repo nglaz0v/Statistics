{
 "cells": [
  {
   "cell_type": "code",
   "execution_count": 1,
   "id": "6e49ab68",
   "metadata": {},
   "outputs": [],
   "source": [
    "import numpy as np\n",
    "import scipy.stats"
   ]
  },
  {
   "cell_type": "markdown",
   "id": "4c40286d",
   "metadata": {},
   "source": [
    "__1.__ Провести дисперсионный анализ для определения того, есть ли различия среднего роста среди взрослых футболистов, хоккеистов и штангистов. Даны значения роста в трех группах случайно выбранных спортсменов: \n",
    "```\n",
    "football_players = [173, 175, 180, 178, 177, 185, 183, 182]\n",
    "hockey_players = [177, 179, 180, 188, 177, 172, 171, 184, 180]\n",
    "lifters = [172, 173, 169, 177, 166, 180, 178, 177, 172, 166, 170]\n",
    "```"
   ]
  },
  {
   "cell_type": "code",
   "execution_count": 2,
   "id": "8135b1e6",
   "metadata": {},
   "outputs": [
    {
     "name": "stdout",
     "output_type": "stream",
     "text": [
      "n1=8, n2=9, n3=11\n"
     ]
    }
   ],
   "source": [
    "football_players = [173, 175, 180, 178, 177, 185, 183, 182]\n",
    "hockey_players = [177, 179, 180, 188, 177, 172, 171, 184, 180]\n",
    "lifters = [172, 173, 169, 177, 166, 180, 178, 177, 172, 166, 170]\n",
    "\n",
    "y1 = np.array(football_players)\n",
    "y2 = np.array(hockey_players)\n",
    "y3 = np.array(lifters)\n",
    "\n",
    "n1 = y1.shape[0]\n",
    "n2 = y2.shape[0]\n",
    "n3 = y3.shape[0]\n",
    "print(f\"{n1=}, {n2=}, {n3=}\")"
   ]
  },
  {
   "cell_type": "code",
   "execution_count": 3,
   "id": "1b8d871b",
   "metadata": {},
   "outputs": [
    {
     "name": "stdout",
     "output_type": "stream",
     "text": [
      "y1_mean=179.125, y2_mean=178.66666666666666, y3_mean=172.72727272727272\n",
      "y_mean=176.46428571428572\n"
     ]
    }
   ],
   "source": [
    "# выборочные средние по каждой группе\n",
    "y1_mean = y1.mean()\n",
    "y2_mean = y2.mean()\n",
    "y3_mean = y3.mean()\n",
    "print(f\"{y1_mean=}, {y2_mean=}, {y3_mean=}\")\n",
    "\n",
    "y = np.concatenate([y1, y2, y3])\n",
    "# выборочное среднее по всем группам\n",
    "y_mean = y.mean()\n",
    "print(f\"{y_mean=}\")"
   ]
  },
  {
   "cell_type": "code",
   "execution_count": 4,
   "id": "7a9c4cdf",
   "metadata": {},
   "outputs": [
    {
     "name": "stdout",
     "output_type": "stream",
     "text": [
      "S2_F=253.9074675324678, S2_res=577.0568181818182\n"
     ]
    }
   ],
   "source": [
    "# сумма квадратов отклонений средних групповых значений от общего среднего значения\n",
    "S2_F = n1 * (y1_mean - y_mean) ** 2 + n2 * (y2_mean - y_mean) ** 2 + n3 * (y3_mean - y_mean) ** 2\n",
    "# остаточная сумма квадратов отклонений\n",
    "S2_res = ((y1 - y1_mean) ** 2).sum() + ((y2 - y2_mean) ** 2).sum() + ((y3 - y3_mean) ** 2).sum()\n",
    "print(f\"{S2_F=}, {S2_res=}\")\n",
    "# print(\"%f %f\" % (S2_F + S2_res, ((y - y_mean) ** 2).sum()))"
   ]
  },
  {
   "cell_type": "code",
   "execution_count": 5,
   "id": "ec1c77d8",
   "metadata": {},
   "outputs": [
    {
     "name": "stdout",
     "output_type": "stream",
     "text": [
      "sigma2_F=126.9537337662339, sigma2_res=23.08227272727273\n"
     ]
    }
   ],
   "source": [
    "k = 3 # количество выборок\n",
    "n = n1 + n2 + n3 # общее число наблюдений\n",
    "\n",
    "k1 = k - 1\n",
    "k2 = n - k\n",
    "\n",
    "# несмещённые оценки дисперсий\n",
    "sigma2_F = S2_F / k1\n",
    "sigma2_res = S2_res / k2\n",
    "print(f\"{sigma2_F=}, {sigma2_res=}\")"
   ]
  },
  {
   "cell_type": "code",
   "execution_count": 6,
   "id": "d11393f1",
   "metadata": {},
   "outputs": [
    {
     "name": "stdout",
     "output_type": "stream",
     "text": [
      "F=5.500053450812598 > Fc=3.3851899614491687 -> различия среднего роста спортсменов значимы\n"
     ]
    }
   ],
   "source": [
    "alpha = 0.05 # уровень значимости\n",
    "F = sigma2_F / sigma2_res\n",
    "Fc = scipy.stats.f.ppf(1 - alpha, k1, k2)\n",
    "if (F > Fc):\n",
    "    print(f\"{F=} > {Fc=} -> различия среднего роста спортсменов значимы\")\n",
    "else:\n",
    "    print(f\"{F=} < {Fc=} -> различия среднего роста спортсменов незначимы\")"
   ]
  },
  {
   "cell_type": "markdown",
   "id": "aa957a2a",
   "metadata": {},
   "source": [
    "Ссылка на git: https://github.com/nglaz0v/Statistics/pull/8"
   ]
  },
  {
   "cell_type": "markdown",
   "id": "27feec63",
   "metadata": {},
   "source": [
    "**Курсовой проект:** https://github.com/nglaz0v/Statistics/blob/develop/project/knmi_weather.ipynb"
   ]
  },
  {
   "cell_type": "code",
   "execution_count": null,
   "id": "3de28cc8",
   "metadata": {},
   "outputs": [],
   "source": []
  }
 ],
 "metadata": {
  "kernelspec": {
   "display_name": "Python 3",
   "language": "python",
   "name": "python3"
  },
  "language_info": {
   "codemirror_mode": {
    "name": "ipython",
    "version": 3
   },
   "file_extension": ".py",
   "mimetype": "text/x-python",
   "name": "python",
   "nbconvert_exporter": "python",
   "pygments_lexer": "ipython3",
   "version": "3.8.8"
  }
 },
 "nbformat": 4,
 "nbformat_minor": 5
}
