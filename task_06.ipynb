{
 "cells": [
  {
   "cell_type": "code",
   "execution_count": 1,
   "id": "4ddc4d75",
   "metadata": {},
   "outputs": [],
   "source": [
    "import numpy as np\n",
    "import pandas as pd\n",
    "import scipy.stats\n",
    "import sympy\n",
    "\n",
    "# выборочное среднее\n",
    "mean = lambda x: sum(x) / len(x)\n",
    "# выборочная дисперсия\n",
    "var = lambda x: sum([(xi - mean(x))**2 for xi in x]) / len(x)\n",
    "# несмещённая выборочная дисперсия\n",
    "varU = lambda x: sum([(xi - mean(x))**2 for xi in x]) / (len(x) - 1)\n",
    "\n",
    "# функция Лапласа\n",
    "Phi = lambda x: (1 + math.erf(x / (2**0.5))) / 2 - 0.5\n",
    "# Phi = lambda x: scipy.stats.norm(loc=0, scale=1).cdf(x) - 0.5\n",
    "\n",
    "# найти t из уравнения 2*Phi(t)=x\n",
    "F2 = lambda x: float(sympy.erfinv(x) * sympy.sqrt(2))\n",
    "# F2 = lambda x: scipy.stats.norm(loc=0, scale=1).ppf(x/2+0.5)"
   ]
  },
  {
   "cell_type": "markdown",
   "id": "d24a0a5e",
   "metadata": {},
   "source": [
    "__1.__ Даны значения величины заработной платы заёмщиков банка (`salary`) и значения их поведенческого кредитного скоринга (`scoring`):\n",
    "```\n",
    "salary = [35, 45, 190, 200, 40, 70, 54, 150, 120, 110]\n",
    "scoring = [401, 574, 874, 919, 459, 739, 653, 902, 746, 832]\n",
    "```\n",
    "1. Найдите ковариацию этих двух величин: сначала без использования специальных функций, а затем с помощью функции `numpy.cov`. Полученные значения должны быть равны.\n",
    "2. Найдите коэффициент корреляции Пирсона: с помощью ковариации и средних квадратических отклонений двух признаков, а затем с помощью специальных функций из библиотек `numpy` и `pandas`."
   ]
  },
  {
   "cell_type": "code",
   "execution_count": 2,
   "id": "25811269",
   "metadata": {},
   "outputs": [
    {
     "name": "stdout",
     "output_type": "stream",
     "text": [
      "Ковариация: 9157.84 (9157.839999999997)\n",
      "[[ 3494.64  9157.84]\n",
      " [ 9157.84 30468.89]]\n",
      "\n",
      "Коэффициент корреляции Пирсона: 0.8874900920739162\n",
      "[[1.         0.88749009]\n",
      " [0.88749009 1.        ]]\n",
      "          salary  scoring\n",
      "salary   1.00000  0.88749\n",
      "scoring  0.88749  1.00000\n"
     ]
    }
   ],
   "source": [
    "salary = [35, 45, 190, 200, 40, 70, 54, 150, 120, 110]\n",
    "scoring = [401, 574, 874, 919, 459, 739, 653, 902, 746, 832]\n",
    "\n",
    "# расчёт ковариации\n",
    "n = len(salary)\n",
    "cov_ = sum([x*y for x, y in zip(salary, scoring)]) / n - (sum(salary) / len(salary)) * (sum(scoring) / len(scoring))\n",
    "cov = sum([(x - mean(salary)) * (y - mean(scoring)) for x, y in zip(salary, scoring)]) / n\n",
    "cov0 = np.cov(salary, scoring, ddof=0)\n",
    "print(f\"Ковариация: {cov} ({cov_})\")\n",
    "print(cov0)\n",
    "print(\"\")\n",
    "\n",
    "# расчёт коэффициента корреляции Пирсона\n",
    "rXY = cov / ((var(salary)**0.5) * (var(scoring)**0.5))\n",
    "rXY0 = np.corrcoef(salary, scoring)\n",
    "df = pd.DataFrame(data=np.array([[x, y] for x, y in zip(salary, scoring)]), columns=[\"salary\", \"scoring\"])\n",
    "rxy = df[[\"salary\", \"scoring\"]].corr()\n",
    "print(f\"Коэффициент корреляции Пирсона: {rXY}\")\n",
    "print(rXY0)\n",
    "print(rxy)"
   ]
  },
  {
   "cell_type": "markdown",
   "id": "24abefa4",
   "metadata": {},
   "source": [
    "__2.__ Измерены значения IQ выборки студентов, обучающихся в местных технических вузах:\n",
    "```\n",
    "131, 125, 115, 122, 131, 115, 107, 99, 125, 111\n",
    "```\n",
    "Известно, что в генеральной совокупности IQ распределен нормально. Найдите доверительный интервал для математического ожидания с надёжностью 0.95."
   ]
  },
  {
   "cell_type": "code",
   "execution_count": 3,
   "id": "57e58ff9",
   "metadata": {},
   "outputs": [
    {
     "data": {
      "text/plain": [
       "(110.55608365158724, 125.64391634841274)"
      ]
     },
     "execution_count": 3,
     "metadata": {},
     "output_type": "execute_result"
    }
   ],
   "source": [
    "iq = (131, 125, 115, 122, 131, 115, 107, 99, 125, 111)\n",
    "gamma = 0.95 # надёжность\n",
    "\n",
    "alpha = 1 - gamma\n",
    "n = len(iq)\n",
    "xm = mean(iq)\n",
    "# т.к. генеральная дисперсия неизвестна, то используется t-распределение Стьюдента\n",
    "t_alpha = scipy.stats.t.ppf(1-alpha/2, n-1)\n",
    "delta = t_alpha * ((var(iq) / (n-1))**0.5)\n",
    "(xm - delta, xm + delta)"
   ]
  },
  {
   "cell_type": "markdown",
   "id": "d6ad2176",
   "metadata": {},
   "source": [
    "__3.__ Известно, что рост футболистов в сборной распределён нормально с известной дисперсией 25. На выборке объёма 27 выборочное среднее составило 174.2. Найдите доверительный интервал для математического ожидания с надёжностью 0.95."
   ]
  },
  {
   "cell_type": "code",
   "execution_count": 4,
   "id": "e6ddd868",
   "metadata": {},
   "outputs": [
    {
     "data": {
      "text/plain": [
       "(172.3140237765397, 176.08597622346028)"
      ]
     },
     "execution_count": 4,
     "metadata": {},
     "output_type": "execute_result"
    }
   ],
   "source": [
    "v = 25 # дисперсия\n",
    "n = 27 # объём выборки\n",
    "xm = 174.2 # выборочное среднее\n",
    "gamma = 0.95 # надёжность\n",
    "\n",
    "# т.к. генеральная дисперсия известна, то используется функция Лапласа\n",
    "t_gamma = F2(gamma)\n",
    "delta = t_gamma * ((v / n)**0.5)\n",
    "(xm - delta, xm + delta)"
   ]
  },
  {
   "cell_type": "markdown",
   "id": "b69ec43a",
   "metadata": {},
   "source": [
    "__4.__ Выберите тему для проектной работы по курсу \"Теории вероятностей и математической статистики\" и напишите её в комментарии к Практическому заданию."
   ]
  },
  {
   "cell_type": "markdown",
   "id": "d7c7d3a8",
   "metadata": {},
   "source": [
    "*Описательная статистика:* **Анализ метеонаблюдений от Королевского нидерландского метеорологического института (KNMI) за последние 100 лет (1920 — 2020 гг.)** (https://www.kaggle.com/davidzaccai/knmi-19012020-historical-weather-data)"
   ]
  },
  {
   "cell_type": "markdown",
   "id": "1c48945d",
   "metadata": {},
   "source": [
    "Ссылка на git: https://github.com/nglaz0v/Statistics/pull/6"
   ]
  },
  {
   "cell_type": "code",
   "execution_count": null,
   "id": "33fe7302",
   "metadata": {},
   "outputs": [],
   "source": []
  }
 ],
 "metadata": {
  "kernelspec": {
   "display_name": "Python 3",
   "language": "python",
   "name": "python3"
  },
  "language_info": {
   "codemirror_mode": {
    "name": "ipython",
    "version": 3
   },
   "file_extension": ".py",
   "mimetype": "text/x-python",
   "name": "python",
   "nbconvert_exporter": "python",
   "pygments_lexer": "ipython3",
   "version": "3.8.8"
  }
 },
 "nbformat": 4,
 "nbformat_minor": 5
}
