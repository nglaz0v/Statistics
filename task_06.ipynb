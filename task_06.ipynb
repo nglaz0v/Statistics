{
 "cells": [
  {
   "cell_type": "code",
   "execution_count": 1,
   "id": "4ddc4d75",
   "metadata": {},
   "outputs": [],
   "source": [
    "import numpy as np\n",
    "import pandas as pd\n",
    "import sympy\n",
    "\n",
    "mean = lambda x: sum(x) / len(x)\n",
    "var = lambda x: sum([(xi - mean(x))**2 for xi in x]) / len(x)\n",
    "varU = lambda x: sum([(xi - mean(x))**2 for xi in x]) / (len(x) - 1)\n",
    "\n",
    "# функция Лапласа\n",
    "Phi = lambda x: (1 + math.erf(x / (2**0.5))) / 2 - 0.5\n",
    "# Phi = lambda x: scipy.stats.norm(loc=0, scale=1).cdf(x) - 0.5\n",
    "\n",
    "# найти t из уравнения 2*Phi(t)=x\n",
    "F2 = lambda x: float(sympy.erfinv(x) * sympy.sqrt(2))\n",
    "# F2 = lambda x: scipy.stats.norm(loc=0, scale=1).ppf(x/2+0.5)"
   ]
  },
  {
   "cell_type": "markdown",
   "id": "d24a0a5e",
   "metadata": {},
   "source": [
    "__1.__ Даны значения величины заработной платы заёмщиков банка (`salary`) и значения их поведенческого кредитного скоринга (`scoring`):\n",
    "```\n",
    "salary = [35, 45, 190, 200, 40, 70, 54, 150, 120, 110]\n",
    "scoring = [401, 574, 874, 919, 459, 739, 653, 902, 746, 832]\n",
    "```\n",
    "1. Найдите ковариацию этих двух величин: сначала без использования специальных функций, а затем с помощью функции `numpy.cov`. Полученные значения должны быть равны.\n",
    "2. Найдите коэффициент корреляции Пирсона: с помощью ковариации и средних квадратических отклонений двух признаков, а затем с помощью специальных функций из библиотек `numpy` и `pandas`."
   ]
  },
  {
   "cell_type": "code",
   "execution_count": 2,
   "id": "25811269",
   "metadata": {},
   "outputs": [
    {
     "name": "stdout",
     "output_type": "stream",
     "text": [
      "Covariance: 10175.377777777778\n",
      "[[ 3882.93333333 10175.37777778]\n",
      " [10175.37777778 33854.32222222]]\n",
      "\n",
      "Correlation coefficient: 0.8874900920739162\n",
      "[[1.         0.88749009]\n",
      " [0.88749009 1.        ]]\n",
      "          salary  scoring\n",
      "salary   1.00000  0.88749\n",
      "scoring  0.88749  1.00000\n"
     ]
    }
   ],
   "source": [
    "salary = [35, 45, 190, 200, 40, 70, 54, 150, 120, 110]\n",
    "scoring = [401, 574, 874, 919, 459, 739, 653, 902, 746, 832]\n",
    "\n",
    "n = len(salary)\n",
    "# cov = sum([x*y for x, y in zip(salary, scoring)]) / n - (sum(salary) / len(salary)) * (sum(scoring) / len(scoring))\n",
    "covU = sum([(x - mean(salary)) * (y - mean(scoring)) for x, y in zip(salary, scoring)]) / (n - 1)\n",
    "cov0 = np.cov(salary, scoring)\n",
    "print(f\"Covariance: {covU}\")\n",
    "print(cov0)\n",
    "print(\"\")\n",
    "\n",
    "rXY = covU / ((varU(salary)**0.5) * (varU(scoring)**0.5))\n",
    "rXY0 = np.corrcoef(salary, scoring)\n",
    "df = pd.DataFrame(data=np.array([[x, y] for x, y in zip(salary, scoring)]), columns=[\"salary\", \"scoring\"])\n",
    "rxy = df[[\"salary\", \"scoring\"]].corr()\n",
    "print(f\"Correlation coefficient: {rXY}\")\n",
    "print(rXY0)\n",
    "print(rxy)"
   ]
  },
  {
   "cell_type": "markdown",
   "id": "24abefa4",
   "metadata": {},
   "source": [
    "__2.__ Измерены значения IQ выборки студентов, обучающихся в местных технических вузах:\n",
    "```\n",
    "131, 125, 115, 122, 131, 115, 107, 99, 125, 111\n",
    "```\n",
    "Известно, что в генеральной совокупности IQ распределен нормально. Найдите доверительный интервал для математического ожидания с надёжностью 0.95."
   ]
  },
  {
   "cell_type": "code",
   "execution_count": 3,
   "id": "57e58ff9",
   "metadata": {},
   "outputs": [
    {
     "data": {
      "text/plain": [
       "(111.89926122656924, 124.30073877343075)"
      ]
     },
     "execution_count": 3,
     "metadata": {},
     "output_type": "execute_result"
    }
   ],
   "source": [
    "iq = (131, 125, 115, 122, 131, 115, 107, 99, 125, 111)\n",
    "gamma = 0.95 # надёжность\n",
    "\n",
    "t_gamma = F2(gamma)\n",
    "delta = t_gamma * ((var(iq) / len(iq))**0.5)\n",
    "(mean(iq) - delta, mean(iq) + delta)"
   ]
  },
  {
   "cell_type": "markdown",
   "id": "d6ad2176",
   "metadata": {},
   "source": [
    "__3.__ Известно, что рост футболистов в сборной распределён нормально с известной дисперсией 25. На выборке объёма 27 выборочное среднее составило 174.2. Найдите доверительный интервал для математического ожидания с надёжностью 0.95."
   ]
  },
  {
   "cell_type": "code",
   "execution_count": 4,
   "id": "e6ddd868",
   "metadata": {},
   "outputs": [
    {
     "data": {
      "text/plain": [
       "(172.3140237765397, 176.08597622346028)"
      ]
     },
     "execution_count": 4,
     "metadata": {},
     "output_type": "execute_result"
    }
   ],
   "source": [
    "v = 25 # дисперсия\n",
    "n = 27 # объём выборки\n",
    "xm = 174.2 # выборочное среднее\n",
    "gamma = 0.95 # надёжность\n",
    "\n",
    "t_gamma = F2(gamma)\n",
    "delta = t_gamma * ((v / n)**0.5)\n",
    "(xm - delta, xm + delta)"
   ]
  },
  {
   "cell_type": "markdown",
   "id": "b69ec43a",
   "metadata": {},
   "source": [
    "__4.__ Выберите тему для проектной работы по курсу \"Теории вероятностей и математической статистики\" и напишите её в комментарии к Практическому заданию."
   ]
  },
  {
   "cell_type": "code",
   "execution_count": 5,
   "id": "1ddf6f00",
   "metadata": {},
   "outputs": [],
   "source": [
    "# ..."
   ]
  },
  {
   "cell_type": "markdown",
   "id": "1c48945d",
   "metadata": {},
   "source": [
    "Ссылка на git: https://github.com/nglaz0v/Statistics/pull/6"
   ]
  },
  {
   "cell_type": "code",
   "execution_count": null,
   "id": "33fe7302",
   "metadata": {},
   "outputs": [],
   "source": []
  }
 ],
 "metadata": {
  "kernelspec": {
   "display_name": "Python 3",
   "language": "python",
   "name": "python3"
  },
  "language_info": {
   "codemirror_mode": {
    "name": "ipython",
    "version": 3
   },
   "file_extension": ".py",
   "mimetype": "text/x-python",
   "name": "python",
   "nbconvert_exporter": "python",
   "pygments_lexer": "ipython3",
   "version": "3.8.8"
  }
 },
 "nbformat": 4,
 "nbformat_minor": 5
}
